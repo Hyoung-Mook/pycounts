{
 "cells": [
  {
   "cell_type": "code",
   "execution_count": 3,
   "id": "32253aaf-287c-422e-95e3-c098800718ed",
   "metadata": {},
   "outputs": [],
   "source": [
    "import pycounts"
   ]
  },
  {
   "cell_type": "code",
   "execution_count": 4,
   "id": "f08a0e9b-ae6a-43a6-a59b-7555b381e377",
   "metadata": {},
   "outputs": [
    {
     "name": "stdout",
     "output_type": "stream",
     "text": [
      "Current Working Directory: C:\\Users\\hyoun\n"
     ]
    }
   ],
   "source": [
    "import os\n",
    "\n",
    "os.chdir('C:\\\\Users\\\\hyoun\\\\')\n",
    "\n",
    "# Confirm change\n",
    "print(\"Current Working Directory:\", os.getcwd())\n"
   ]
  },
  {
   "cell_type": "code",
   "execution_count": 5,
   "id": "9082c055-c3c5-4677-872b-d4c9884abfb5",
   "metadata": {},
   "outputs": [
    {
     "ename": "ModuleNotFoundError",
     "evalue": "No module named 'pycounts.pycounts'",
     "output_type": "error",
     "traceback": [
      "\u001b[31m---------------------------------------------------------------------------\u001b[39m",
      "\u001b[31mModuleNotFoundError\u001b[39m                       Traceback (most recent call last)",
      "\u001b[36mCell\u001b[39m\u001b[36m \u001b[39m\u001b[32mIn[5]\u001b[39m\u001b[32m, line 1\u001b[39m\n\u001b[32m----> \u001b[39m\u001b[32m1\u001b[39m \u001b[38;5;28;01mfrom\u001b[39;00m\u001b[38;5;250m \u001b[39m\u001b[34;01mpycounts\u001b[39;00m\u001b[34;01m.\u001b[39;00m\u001b[34;01mpycounts\u001b[39;00m\u001b[38;5;250m \u001b[39m\u001b[38;5;28;01mimport\u001b[39;00m count_words\n",
      "\u001b[31mModuleNotFoundError\u001b[39m: No module named 'pycounts.pycounts'"
     ]
    }
   ],
   "source": [
    "from pycounts.pycounts import count_words"
   ]
  }
 ],
 "metadata": {
  "kernelspec": {
   "display_name": "Python 3 (ipykernel)",
   "language": "python",
   "name": "python3"
  },
  "language_info": {
   "codemirror_mode": {
    "name": "ipython",
    "version": 3
   },
   "file_extension": ".py",
   "mimetype": "text/x-python",
   "name": "python",
   "nbconvert_exporter": "python",
   "pygments_lexer": "ipython3",
   "version": "3.11.11"
  }
 },
 "nbformat": 4,
 "nbformat_minor": 5
}
